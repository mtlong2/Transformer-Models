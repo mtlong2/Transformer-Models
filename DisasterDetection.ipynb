{
  "nbformat": 4,
  "nbformat_minor": 0,
  "metadata": {
    "colab": {
      "name": "DisasterDetection.ipynb",
      "provenance": []
    },
    "kernelspec": {
      "name": "python3",
      "display_name": "Python 3"
    },
    "language_info": {
      "name": "python"
    },
    "accelerator": "GPU"
  },
  "cells": [
    {
      "cell_type": "code",
      "metadata": {
        "id": "rfSkjEG0MAT0"
      },
      "source": [
        "%%capture\n",
        "!wget https://github.com/mtlong2/Datasets/blob/main/disaster_data.zip?raw=true -O disaster_data.zip\n",
        "!unzip disaster_data\n",
        "!pip install transformers"
      ],
      "execution_count": 1,
      "outputs": []
    },
    {
      "cell_type": "code",
      "metadata": {
        "id": "ohQIRzn8h_i9"
      },
      "source": [
        "# Disaster text classification using BERT\n",
        "import torch\n",
        "from torch.utils.data import TensorDataset, DataLoader, RandomSampler, SequentialSampler\n",
        "from sklearn.model_selection import train_test_split\n",
        "from transformers import BertForSequenceClassification, BertTokenizer, BertConfig, AdamW\n",
        "\n",
        "import numpy as np, pandas as pd\n",
        "import os\n",
        "\n",
        "from tqdm import trange\n",
        "\n",
        "import matplotlib.pyplot as plt\n",
        "%matplotlib inline"
      ],
      "execution_count": 2,
      "outputs": []
    },
    {
      "cell_type": "code",
      "metadata": {
        "colab": {
          "base_uri": "https://localhost:8080/",
          "height": 35
        },
        "id": "6fO5Yzk_iEPN",
        "outputId": "b38909fa-bd10-41c9-eaa0-44884d5f3ffb"
      },
      "source": [
        "model_path = './bert_disaster_detection_state_dict.pth'\n",
        "model_path"
      ],
      "execution_count": 3,
      "outputs": [
        {
          "output_type": "execute_result",
          "data": {
            "application/vnd.google.colaboratory.intrinsic+json": {
              "type": "string"
            },
            "text/plain": [
              "'./bert_disaster_detection_state_dict.pth'"
            ]
          },
          "metadata": {
            "tags": []
          },
          "execution_count": 3
        }
      ]
    },
    {
      "cell_type": "code",
      "metadata": {
        "colab": {
          "base_uri": "https://localhost:8080/"
        },
        "id": "r58oRPrUihlR",
        "outputId": "fb4297e7-1914-42dc-d734-b2f7ffd7f351"
      },
      "source": [
        "text = pd.read_csv('./disaster_data/train.csv').text.values\n",
        "labels = pd.read_csv('./disaster_data/train.csv').target.values\n",
        "print(text.shape)"
      ],
      "execution_count": 4,
      "outputs": [
        {
          "output_type": "stream",
          "text": [
            "(7613,)\n"
          ],
          "name": "stdout"
        }
      ]
    },
    {
      "cell_type": "code",
      "metadata": {
        "colab": {
          "base_uri": "https://localhost:8080/",
          "height": 330
        },
        "id": "zw-elaGTipCy",
        "outputId": "55f9e534-cae0-4e17-8287-09da9f1f54d3"
      },
      "source": [
        "# plot label distribution\n",
        "plt.hist(labels)\n",
        "plt.xlabel('label')\n",
        "plt.ylabel('label distribution')\n",
        "plt.xticks(np.arange(len(np.unique(labels))))"
      ],
      "execution_count": 5,
      "outputs": [
        {
          "output_type": "execute_result",
          "data": {
            "text/plain": [
              "([<matplotlib.axis.XTick at 0x7fc13f9bf210>,\n",
              "  <matplotlib.axis.XTick at 0x7fc13f9bf1d0>],\n",
              " <a list of 2 Text major ticklabel objects>)"
            ]
          },
          "metadata": {
            "tags": []
          },
          "execution_count": 5
        },
        {
          "output_type": "display_data",
          "data": {
            "image/png": "[encoded data removed]",
            "text/plain": [
              "<Figure size 432x288 with 1 Axes>"
            ]
          },
          "metadata": {
            "tags": [],
            "needs_background": "light"
          }
        }
      ]
    },
    {
      "cell_type": "code",
      "metadata": {
        "colab": {
          "base_uri": "https://localhost:8080/"
        },
        "id": "Vhb-kXXYj4W1",
        "outputId": "72e588a3-d656-46fc-f945-bbdc61d5237b"
      },
      "source": [
        "# prepare data\n",
        "# Tokenize with BERT Tokenizer\n",
        "tokenizer = BertTokenizer.from_pretrained('bert-base-uncased', do_lower_case=True)\n",
        "padded_seq = tokenizer(list(text), padding=True)\n",
        "print(f\"tokenized inputs {padded_seq['input_ids'][0]}\")"
      ],
      "execution_count": 6,
      "outputs": [
        {
          "output_type": "stream",
          "text": [
            "tokenized inputs [101, 2256, 15616, 2024, 1996, 3114, 1997, 2023, 1001, 8372, 2089, 16455, 9641, 2149, 2035, 102, 0, 0, 0, 0, 0, 0, 0, 0, 0, 0, 0, 0, 0, 0, 0, 0, 0, 0, 0, 0, 0, 0, 0, 0, 0, 0, 0, 0, 0, 0, 0, 0, 0, 0, 0, 0, 0, 0, 0, 0, 0, 0, 0, 0, 0, 0, 0, 0, 0, 0, 0, 0, 0, 0, 0, 0, 0, 0, 0, 0, 0, 0, 0, 0, 0, 0, 0, 0]\n"
          ],
          "name": "stdout"
        }
      ]
    },
    {
      "cell_type": "code",
      "metadata": {
        "colab": {
          "base_uri": "https://localhost:8080/"
        },
        "id": "oJbE29PZj6DV",
        "outputId": "b182107c-1f02-4d67-ae08-7c97dc5a6912"
      },
      "source": [
        "padded_seq.keys()"
      ],
      "execution_count": 7,
      "outputs": [
        {
          "output_type": "execute_result",
          "data": {
            "text/plain": [
              "dict_keys(['input_ids', 'token_type_ids', 'attention_mask'])"
            ]
          },
          "metadata": {
            "tags": []
          },
          "execution_count": 7
        }
      ]
    },
    {
      "cell_type": "code",
      "metadata": {
        "id": "y-Jx-lxfj82t"
      },
      "source": [
        "# split data into train and validation sets\n",
        "\n",
        "input_ids = padded_seq['input_ids']\n",
        "attention_masks = padded_seq['attention_mask']\n",
        "\n",
        "train_inputs, val_inputs, train_labels, val_labels = train_test_split(input_ids, labels, random_state=42,\n",
        "                                                                     test_size=0.10)\n",
        "\n",
        "train_masks, val_masks, _, _ = train_test_split(attention_masks, input_ids, random_state=42,\n",
        "                                               test_size=0.10)"
      ],
      "execution_count": 8,
      "outputs": []
    },
    {
      "cell_type": "code",
      "metadata": {
        "id": "mLmMP3DHj-q1"
      },
      "source": [
        "# convert data into tensors\n",
        "\n",
        "train_inputs = torch.tensor(train_inputs)\n",
        "val_inputs = torch.tensor(val_inputs)\n",
        "train_labels = torch.tensor(train_labels)\n",
        "val_labels = torch.tensor(val_labels)\n",
        "train_masks = torch.tensor(train_masks)\n",
        "val_masks = torch.tensor(val_masks)"
      ],
      "execution_count": 9,
      "outputs": []
    },
    {
      "cell_type": "code",
      "metadata": {
        "id": "37XBWs1SkCFM"
      },
      "source": [
        "# create a data interator (generator) for train and validation sets with torch DataLoader\n",
        "batch_size = 16\n",
        "\n",
        "# training generator\n",
        "train_data = TensorDataset(train_inputs, train_masks, train_labels)\n",
        "train_sampler = RandomSampler(train_data)\n",
        "train_dataloader = DataLoader(train_data, sampler=train_sampler, batch_size = batch_size)\n",
        "\n",
        "# validation generator\n",
        "val_data = TensorDataset(val_inputs, val_masks, val_labels)\n",
        "val_sampler = RandomSampler(val_data)\n",
        "val_dataloader = DataLoader(val_data, sampler=val_sampler, batch_size=batch_size)"
      ],
      "execution_count": 21,
      "outputs": []
    },
    {
      "cell_type": "code",
      "metadata": {
        "colab": {
          "base_uri": "https://localhost:8080/"
        },
        "id": "-1tpnb_bkJ8E",
        "outputId": "7718143e-913a-44db-9154-515814b51fe3"
      },
      "source": [
        "# load pretrained BERT model\n",
        "# confirm GPU device\n",
        "device = torch.device('cuda' if torch.cuda.is_available() else 'cpu')\n",
        "\n",
        "if device.type == \"cuda\":\n",
        "    print(torch.cuda.get_device_name(0))\n",
        "else: print(\"using CPU\")"
      ],
      "execution_count": 11,
      "outputs": [
        {
          "output_type": "stream",
          "text": [
            "Tesla T4\n"
          ],
          "name": "stdout"
        }
      ]
    },
    {
      "cell_type": "code",
      "metadata": {
        "colab": {
          "base_uri": "https://localhost:8080/"
        },
        "id": "UZ7NTzJnkMBU",
        "outputId": "6fe0beec-4e2d-4a24-d1ef-4e8e03075b44"
      },
      "source": [
        "# load BertForSequenceClassification (pretrained BERT model with single linear classification layer on top)\n",
        "\n",
        "num_labels = 2\n",
        "\n",
        "model = BertForSequenceClassification.from_pretrained(\"bert-base-uncased\", num_labels=num_labels)\n",
        "\n",
        "# push model to GPU, if available\n",
        "model.to(device)\n",
        "\n",
        "# fine-tuning BERT parameters\n",
        "param_optimizer = list(model.named_parameters())\n",
        "\n",
        "no_decay = ['bais','gamma','beta']\n",
        "\n",
        "optimizer_grouped_parameters = [\n",
        "    {'params': [p for n,p in param_optimizer if not any(nd in n for nd in no_decay)],\n",
        "               'weight_decay_rate':0.01},\n",
        "    {'params' : [p for n,p in param_optimizer if any(nd in n for nd in no_decay)],\n",
        "               'weight_decay_rate':0.0}   \n",
        "]\n",
        "\n",
        "optimizer = AdamW(optimizer_grouped_parameters, lr=2e-5)"
      ],
      "execution_count": 22,
      "outputs": [
        {
          "output_type": "stream",
          "text": [
            "Some weights of the model checkpoint at bert-base-uncased were not used when initializing BertForSequenceClassification: ['cls.predictions.bias', 'cls.predictions.transform.LayerNorm.weight', 'cls.seq_relationship.weight', 'cls.predictions.transform.dense.weight', 'cls.predictions.decoder.weight', 'cls.predictions.transform.LayerNorm.bias', 'cls.seq_relationship.bias', 'cls.predictions.transform.dense.bias']\n",
            "- This IS expected if you are initializing BertForSequenceClassification from the checkpoint of a model trained on another task or with another architecture (e.g. initializing a BertForSequenceClassification model from a BertForPreTraining model).\n",
            "- This IS NOT expected if you are initializing BertForSequenceClassification from the checkpoint of a model that you expect to be exactly identical (initializing a BertForSequenceClassification model from a BertForSequenceClassification model).\n",
            "Some weights of BertForSequenceClassification were not initialized from the model checkpoint at bert-base-uncased and are newly initialized: ['classifier.weight', 'classifier.bias']\n",
            "You should probably TRAIN this model on a down-stream task to be able to use it for predictions and inference.\n"
          ],
          "name": "stderr"
        }
      ]
    },
    {
      "cell_type": "code",
      "metadata": {
        "colab": {
          "base_uri": "https://localhost:8080/"
        },
        "id": "F7yrAviyk4s0",
        "outputId": "58824daf-7a27-4fa9-f643-9610f2cbd23e"
      },
      "source": [
        "if os.path.exists(model_path):\n",
        "    print (\"Loading weights from saved model...\")\n",
        "    model.load_state_dict(torch.load(model_path, map_location=device))"
      ],
      "execution_count": 13,
      "outputs": [
        {
          "output_type": "stream",
          "text": [
            "Loading weights from saved model...\n"
          ],
          "name": "stdout"
        }
      ]
    },
    {
      "cell_type": "code",
      "metadata": {
        "id": "qCihR-TFk7zc"
      },
      "source": [
        "# Train Model function\n",
        "\n",
        "def train(model, iterator, optimizer):\n",
        "    model.train()\n",
        "    epoch_loss =0\n",
        "    \n",
        "    for step, batch in enumerate(iterator):\n",
        "        \n",
        "        # input data\n",
        "        batch =tuple(t.to(device) for t in batch)\n",
        "        b_input_ids, b_input_mask, b_labels = batch\n",
        "        \n",
        "        # reset gradients after every batch\n",
        "        optimizer.zero_grad()\n",
        "        \n",
        "        # forward pass\n",
        "        output = model(b_input_ids, token_type_ids=None, attention_mask=b_input_mask, labels=b_labels)\n",
        "        loss = output['loss']\n",
        "        \n",
        "        # backwards pass\n",
        "        loss.backward()\n",
        "        \n",
        "        # take a step using the gradient\n",
        "        optimizer.step()\n",
        "        \n",
        "        #loss\n",
        "        epoch_loss += loss.item()\n",
        "        \n",
        "        if step%100==0:\n",
        "            print(f\"step: {step}\")\n",
        "            \n",
        "    return epoch_loss / len(iterator)"
      ],
      "execution_count": 23,
      "outputs": []
    },
    {
      "cell_type": "code",
      "metadata": {
        "id": "bdgdddb9k_rP"
      },
      "source": [
        "# Evaluate Model\n",
        "\n",
        "# calculate accuracy of our predictions vs labels\n",
        "def flat_accuracy(preds, labels):\n",
        "    pred_flat = np.argmax(preds, axis=1).flatten()\n",
        "    labels_flat = labels.flatten()\n",
        "    \n",
        "    return np.sum(pred_flat == labels_flat) / len(labels_flat)\n",
        "\n",
        "def evaluate(model, iterator):\n",
        "    # initialize each epoch\n",
        "    epoch_accuracy = 0\n",
        "    \n",
        "    #deactivate dropout layers in evaluate mode\n",
        "    model.eval()\n",
        "    \n",
        "    for batch in iterator:\n",
        "        batch = tuple(t.to(device) for t in batch)\n",
        "        b_input_ids, b_input_mask, b_labels = batch\n",
        "        \n",
        "        # deactivate autograd in evaluat mode\n",
        "        with torch.no_grad():\n",
        "            # forward pass, calculate logit predictions before passing through accuracy function\n",
        "            output = model(b_input_ids, token_type_ids=None, attention_mask=b_input_mask)\n",
        "            logits = output['logits']\n",
        "            \n",
        "        # move logits and labels to CPU for processing\n",
        "        # logits = logits.detach().cpu.numpy()\n",
        "        # label_ids = b_labels.to('cpu').numpy()\n",
        "\n",
        "        logits = logits.detach().cpu().numpy()\n",
        "        label_ids = b_labels.to('cpu').numpy()\n",
        "        \n",
        "        temp_eval_accuracy = flat_accuracy(logits, label_ids)\n",
        "       \n",
        "        epoch_accuracy += temp_eval_accuracy\n",
        "        \n",
        "    return epoch_accuracy / len(iterator)"
      ],
      "execution_count": 24,
      "outputs": []
    },
    {
      "cell_type": "code",
      "metadata": {
        "colab": {
          "base_uri": "https://localhost:8080/"
        },
        "id": "kmjYLCSflBz7",
        "outputId": "c7423bce-e1f0-4974-9e28-e44f8017fe34"
      },
      "source": [
        "# train and validate\n",
        "num_epochs  = 2\n",
        "best_val_acc = 0\n",
        "\n",
        "# BERT training loop\n",
        "for _ in trange(num_epochs, desc='Epoch'):\n",
        "    \n",
        "    # train model\n",
        "    train_loss = train(model, train_dataloader, optimizer)\n",
        "    \n",
        "    # evaluate the model\n",
        "    val_accuracy = evaluate(model, val_dataloader)\n",
        "    \n",
        "    # save the best model\n",
        "    if val_accuracy > best_val_acc:\n",
        "        best_val_acc = val_accuracy\n",
        "        print(\"saving model...>..>.\")\n",
        "        torch.save(model.state_dict(), model_path)\n",
        "        \n",
        "    print(f'\\t Training Loss: {train_loss:.3f} | Val. Accuracy: {val_accuracy*100: .2f}%')"
      ],
      "execution_count": 25,
      "outputs": [
        {
          "output_type": "stream",
          "text": [
            "\rEpoch:   0%|          | 0/2 [00:00<?, ?it/s]"
          ],
          "name": "stderr"
        },
        {
          "output_type": "stream",
          "text": [
            "step: 0\n",
            "step: 100\n",
            "step: 200\n",
            "step: 300\n",
            "step: 400\n",
            "saving model...>..>.\n"
          ],
          "name": "stdout"
        },
        {
          "output_type": "stream",
          "text": [
            "\rEpoch:  50%|█████     | 1/2 [02:02<02:02, 122.10s/it]"
          ],
          "name": "stderr"
        },
        {
          "output_type": "stream",
          "text": [
            "\t Training Loss: 0.439 | Val. Accuracy:  83.52%\n",
            "step: 0\n",
            "step: 100\n",
            "step: 200\n",
            "step: 300\n",
            "step: 400\n",
            "saving model...>..>.\n"
          ],
          "name": "stdout"
        },
        {
          "output_type": "stream",
          "text": [
            "Epoch: 100%|██████████| 2/2 [04:03<00:00, 121.77s/it]"
          ],
          "name": "stderr"
        },
        {
          "output_type": "stream",
          "text": [
            "\t Training Loss: 0.320 | Val. Accuracy:  83.57%\n"
          ],
          "name": "stdout"
        },
        {
          "output_type": "stream",
          "text": [
            "\n"
          ],
          "name": "stderr"
        }
      ]
    },
    {
      "cell_type": "code",
      "metadata": {
        "id": "yOoXr9lklFKr"
      },
      "source": [
        "# make predictions\n",
        "\n",
        "model.to('cpu')\n",
        "model.load_state_dict(torch.load(model_path))\n",
        "model.eval()\n",
        "\n",
        "def prediction(model, sentence):\n",
        "    encoded_input = tokenizer(sentence, return_tensors=\"pt\")\n",
        "    output = model(**encoded_input)\n",
        "    logits = output.logits\n",
        "    logits = logits.detach().cpu().numpy()\n",
        "    \n",
        "    pred = np.argmax(logits, axis=1)[0]\n",
        "    return 'Disaster event' if pred == 1 else 'Not a disaster event'"
      ],
      "execution_count": 29,
      "outputs": []
    },
    {
      "cell_type": "code",
      "metadata": {
        "colab": {
          "base_uri": "https://localhost:8080/",
          "height": 35
        },
        "id": "bAmeeJ9Lxa5K",
        "outputId": "aecc446f-5b95-4fd3-e1df-97416455f6e9"
      },
      "source": [
        "prediction(model, \"Flash flood in Kamdesh provence\")"
      ],
      "execution_count": 30,
      "outputs": [
        {
          "output_type": "execute_result",
          "data": {
            "application/vnd.google.colaboratory.intrinsic+json": {
              "type": "string"
            },
            "text/plain": [
              "'Disaster event'"
            ]
          },
          "metadata": {
            "tags": []
          },
          "execution_count": 30
        }
      ]
    },
    {
      "cell_type": "code",
      "metadata": {
        "colab": {
          "base_uri": "https://localhost:8080/",
          "height": 35
        },
        "id": "8dswV_THxfUS",
        "outputId": "c32b7893-2bfc-4734-95fd-b49fac634efc"
      },
      "source": [
        "prediction(model, \"Great weather to go to the beach\")"
      ],
      "execution_count": 33,
      "outputs": [
        {
          "output_type": "execute_result",
          "data": {
            "application/vnd.google.colaboratory.intrinsic+json": {
              "type": "string"
            },
            "text/plain": [
              "'Not a disaster event'"
            ]
          },
          "metadata": {
            "tags": []
          },
          "execution_count": 33
        }
      ]
    },
    {
      "cell_type": "code",
      "metadata": {
        "id": "BBtOSxtGx3uf"
      },
      "source": [
        ""
      ],
      "execution_count": null,
      "outputs": []
    }
  ]
}